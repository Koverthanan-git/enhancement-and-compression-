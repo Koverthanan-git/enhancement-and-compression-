{
 "cells": [
  {
   "cell_type": "code",
   "execution_count": null,
   "metadata": {},
   "outputs": [],
   "source": [
    "import cv2\n",
    "import numpy as np\n",
    "\n",
    "def enhance_and_compress_image(input_path, enhanced_output_path, compressed_output_path, alpha=1.1, beta=5, quality=80):\n",
    "    try:\n",
    "        img = cv2.imread(input_path)\n",
    "        if img is None:\n",
    "            raise FileNotFoundError(f\"Image not found at {input_path}\")\n",
    "\n",
    "        # Enhancement (Smoother)\n",
    "        # Apply a slight blur before sharpening to smooth out harsh edges\n",
    "        blurred_img = cv2.GaussianBlur(img, (5, 5), 0) # Apply Gaussian Blur\n",
    "\n",
    "        kernel = np.array([[-1, -1, -1],\n",
    "                           [-1,  9, -1],\n",
    "                           [-1, -1, -1]])\n",
    "        sharpened_img = cv2.filter2D(blurred_img, -1, kernel) #Sharpen the blurred image.\n",
    "\n",
    "        enhanced_img = cv2.convertScaleAbs(sharpened_img, alpha=alpha, beta=beta)\n",
    "\n",
    "        # Save enhanced image\n",
    "        cv2.imwrite(enhanced_output_path, enhanced_img)\n",
    "        print(f\"Image enhanced and saved to {enhanced_output_path}\")\n",
    "\n",
    "        # Compression\n",
    "        cv2.imwrite(compressed_output_path, img, [cv2.IMWRITE_JPEG_QUALITY, quality])\n",
    "        print(f\"Image compressed and saved to {compressed_output_path}\")\n",
    "\n",
    "    except Exception as e:\n",
    "        print(f\"Error: {e}\")\n",
    "\n",
    "# Example usage\n",
    "input_image_path = \"bmv.jpg\"  # Replace with your input image path\n",
    "enhanced_output_path = \"enhanced_smooth.jpg\"\n",
    "compressed_output_path = \"compressed.jpg\"\n",
    "\n",
    "enhance_and_compress_image(input_image_path, enhanced_output_path, compressed_output_path)"
   ]
  },
  {
   "cell_type": "code",
   "execution_count": null,
   "metadata": {},
   "outputs": [],
   "source": []
  }
 ],
 "metadata": {
  "kernelspec": {
   "display_name": "base",
   "language": "python",
   "name": "python3"
  },
  "language_info": {
   "codemirror_mode": {
    "name": "ipython",
    "version": 3
   },
   "file_extension": ".py",
   "mimetype": "text/x-python",
   "name": "python",
   "nbconvert_exporter": "python",
   "pygments_lexer": "ipython3",
   "version": "3.11.5"
  }
 },
 "nbformat": 4,
 "nbformat_minor": 2
}
